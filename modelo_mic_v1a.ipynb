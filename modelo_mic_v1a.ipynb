{
  "nbformat": 4,
  "nbformat_minor": 0,
  "metadata": {
    "colab": {
      "name": "modelo_mic_v1a.ipynb",
      "provenance": [],
      "collapsed_sections": []
    },
    "kernelspec": {
      "name": "python3",
      "display_name": "Python 3"
    },
    "language_info": {
      "name": "python"
    }
  },
  "cells": [
    {
      "cell_type": "markdown",
      "source": [
        "**Maestría en Informática - PUCP - Aprendizaje Automático**\n",
        "\n",
        "**Proyecto Grupal 2022-1**\n",
        "\n",
        "# **Complicaciones en pacientes que sufrieron infarto al miocardio**"
      ],
      "metadata": {
        "id": "DEBb4eoq_3ht"
      }
    },
    {
      "cell_type": "markdown",
      "source": [
        "Repositorio: https://github.com/dp202204/Proyecto-ML-2022"
      ],
      "metadata": {
        "id": "GE5OuTVxoEFI"
      }
    },
    {
      "cell_type": "code",
      "execution_count": 25,
      "metadata": {
        "id": "xASy4XKy_nb4"
      },
      "outputs": [],
      "source": [
        "import pandas as pd"
      ]
    },
    {
      "cell_type": "code",
      "source": [
        "# Carga de datos - Pacientes que sufrieron infarto al miocardio y sus complicaciones\n",
        "# Datos utilizados:\n",
        "# Myocardial infarction complications Data Set\n",
        "# Center for Machine Learning and Intelligent Systems, Bren School of Information and Computer Science, University of California, Irvine\n",
        "\n",
        "mic_data1 = pd.read_csv('https://leicester.figshare.com/ndownloader/files/23581310')"
      ],
      "metadata": {
        "id": "3i6GO8YBAkcE"
      },
      "execution_count": 26,
      "outputs": []
    },
    {
      "cell_type": "code",
      "source": [
        "mic_data1.shape"
      ],
      "metadata": {
        "colab": {
          "base_uri": "https://localhost:8080/"
        },
        "id": "GzsaKLO4D9Td",
        "outputId": "10c8f676-d03e-4ea3-85d5-6f1a5e9db1d5"
      },
      "execution_count": 27,
      "outputs": [
        {
          "output_type": "execute_result",
          "data": {
            "text/plain": [
              "(1700, 124)"
            ]
          },
          "metadata": {},
          "execution_count": 27
        }
      ]
    },
    {
      "cell_type": "code",
      "source": [
        "# Recolección de información general acerca de las columnas y su contenido\n",
        "\n",
        "cant_col_nan      = 0\n",
        "cant_col_sin_nan  = 0\n",
        "cant_col_num      = 0\n",
        "cant_col_binarias = 0\n",
        "\n",
        "for col in mic_data1:\n",
        "  #Determinamos cuantas columna son numericas\n",
        "  if pd.api.types.is_numeric_dtype(mic_data1[col]):\n",
        "    cant_col_num = cant_col_num + 1\n",
        "    if mic_data1[col].nunique() == 2:\n",
        "      cant_col_binarias = cant_col_binarias + 1\n",
        "  #Determinamos que columnas tienen datos faltantes\n",
        "  if mic_data1[col].isna().sum() > 0:\n",
        "    cant_col_nan = cant_col_nan + 1\n",
        "  else:\n",
        "     cant_col_sin_nan = cant_col_sin_nan + 1"
      ],
      "metadata": {
        "id": "Ng0ynKajFU0O"
      },
      "execution_count": 28,
      "outputs": []
    },
    {
      "cell_type": "code",
      "source": [
        "cant_col_mic_data1 = mic_data1.shape[1]\n",
        "print('Total de columnas en el conjunto de datos: ',cant_col_mic_data1)\n",
        "print('Total de columnas numericas:               ',cant_col_num, ' (', '%.1f%%' % (100*cant_col_num/cant_col_mic_data1),')')\n",
        "print('Total de columnas numericas binarias:       ',cant_col_binarias, ' (', '%.1f%%' % (100*cant_col_binarias/cant_col_mic_data1),')')\n",
        "print('Total de columnas con datos faltantes:     ',cant_col_nan, ' (', '%.1f%%' % (100*cant_col_nan/cant_col_mic_data1),')')\n",
        "print('Total de columnas con datos completos:      ',cant_col_sin_nan, ' (Para comprobación)')"
      ],
      "metadata": {
        "colab": {
          "base_uri": "https://localhost:8080/"
        },
        "id": "KpUAUauOJQOm",
        "outputId": "de20d4d4-4bd7-450f-ee10-012c82c0cab7"
      },
      "execution_count": 29,
      "outputs": [
        {
          "output_type": "stream",
          "name": "stdout",
          "text": [
            "Total de columnas en el conjunto de datos:  124\n",
            "Total de columnas numericas:                124  ( 100.0% )\n",
            "Total de columnas numericas binarias:        89  ( 71.8% )\n",
            "Total de columnas con datos faltantes:      110  ( 88.7% )\n",
            "Total de columnas con datos completos:       14  (Para comprobación)\n"
          ]
        }
      ]
    },
    {
      "cell_type": "markdown",
      "source": [
        "Todas las columnas son numéricas. Algunas son enteras y otras de punto flotante.\n",
        "\n",
        "89 columnas (71.8%) son binarias, es decir, tiene los valores 0 y 1. Por tanto 35 columan tiene datos no binarios.\n",
        "\n",
        "La mayoría de las columnas tienen datos faltantes (88.7%)."
      ],
      "metadata": {
        "id": "UD9R9uP9oo_T"
      }
    },
    {
      "cell_type": "code",
      "source": [
        "# Recoleccion de características más específicas de los datos por columna: Datos unicos, datos faltantes\n",
        "\n",
        "cant_filas_mic_data1 = mic_data1.shape[0]\n",
        "mic_caract = pd.DataFrame(mic_data1.nunique(),columns=['Datos_Unicos'])\n",
        "mic_caract['Faltantes'] = mic_data1.isna().sum() / cant_filas_mic_data1 * 100\n",
        "# mic_data.nunique().hist()\n",
        "# mic_data.nunique()"
      ],
      "metadata": {
        "id": "IXvIj5ITUmAB"
      },
      "execution_count": 30,
      "outputs": []
    },
    {
      "cell_type": "code",
      "source": [
        "print ('Columnas con mayor cantidad de datos únicos')\n",
        "print ()\n",
        "mic_caract.sort_values('Datos_Unicos', ascending = False)['Datos_Unicos'].head(37)"
      ],
      "metadata": {
        "colab": {
          "base_uri": "https://localhost:8080/"
        },
        "id": "aalxYYDH5bif",
        "outputId": "5a1e7104-ee06-4c21-cf01-60078abb58c5"
      },
      "execution_count": 31,
      "outputs": [
        {
          "output_type": "stream",
          "name": "stdout",
          "text": [
            "Columnas con mayor cantidad de datos únicos\n",
            "\n"
          ]
        },
        {
          "output_type": "execute_result",
          "data": {
            "text/plain": [
              "ID             1700\n",
              "L_BLOOD         174\n",
              "ALT_BLOOD        69\n",
              "AGE              62\n",
              "ROE              58\n",
              "AST_BLOOD        58\n",
              "K_BLOOD          51\n",
              "NA_BLOOD         40\n",
              "S_AD_ORIT        32\n",
              "S_AD_KBRIG       30\n",
              "D_AD_KBRIG       21\n",
              "D_AD_ORIT        20\n",
              "TIME_B_S          9\n",
              "LET_IS            8\n",
              "DLIT_AG           8\n",
              "STENOK_AN         7\n",
              "post_im           5\n",
              "inf_im            5\n",
              "lat_im            5\n",
              "ant_im            5\n",
              "NA_R_1_n          5\n",
              "NOT_NA_1_n        5\n",
              "ZSN_A             5\n",
              "FK_STENOK         5\n",
              "KFK_BLOOD         4\n",
              "R_AB_2_n          4\n",
              "R_AB_1_n          4\n",
              "NA_R_2_n          4\n",
              "NOT_NA_2_n        4\n",
              "INF_ANAM          4\n",
              "R_AB_3_n          4\n",
              "GB                4\n",
              "NOT_NA_3_n        3\n",
              "NA_R_3_n          3\n",
              "IBS_POST          3\n",
              "NA_KB             2\n",
              "fibr_ter_06       2\n",
              "Name: Datos_Unicos, dtype: int64"
            ]
          },
          "metadata": {},
          "execution_count": 31
        }
      ]
    },
    {
      "cell_type": "markdown",
      "source": [
        "De acuerdo al análisis de datos únicos, solo la columna ID contiene información que no sería útil.\n",
        "\n",
        "Descartaremos la columna ID."
      ],
      "metadata": {
        "id": "rwkYtmUNrmhB"
      }
    },
    {
      "cell_type": "code",
      "source": [
        "print ('Columnas con mayor porcentaje de datos faltantes')\n",
        "print ()\n",
        "mic_caract.sort_values('Faltantes', ascending = False)['Faltantes'].head(15)"
      ],
      "metadata": {
        "colab": {
          "base_uri": "https://localhost:8080/"
        },
        "id": "P6zj2IsdNgAO",
        "outputId": "c3781b88-2577-4d17-eefe-37d91775dd0f"
      },
      "execution_count": 32,
      "outputs": [
        {
          "output_type": "stream",
          "name": "stdout",
          "text": [
            "Columnas con mayor porcentaje de datos faltantes\n",
            "\n"
          ]
        },
        {
          "output_type": "execute_result",
          "data": {
            "text/plain": [
              "KFK_BLOOD     99.764706\n",
              "IBS_NASL      95.764706\n",
              "S_AD_KBRIG    63.294118\n",
              "D_AD_KBRIG    63.294118\n",
              "NOT_NA_KB     40.352941\n",
              "LID_KB        39.823529\n",
              "NA_KB         38.647059\n",
              "GIPER_NA      22.058824\n",
              "NA_BLOOD      22.058824\n",
              "K_BLOOD       21.823529\n",
              "GIPO_K        21.705882\n",
              "AST_BLOOD     16.764706\n",
              "ALT_BLOOD     16.705882\n",
              "S_AD_ORIT     15.705882\n",
              "D_AD_ORIT     15.705882\n",
              "Name: Faltantes, dtype: float64"
            ]
          },
          "metadata": {},
          "execution_count": 32
        }
      ]
    },
    {
      "cell_type": "markdown",
      "source": [
        "De acuerdo a algunos autores, la proporción de valores faltantes en estudios científicos es muy variable y puede alcanzar niveles de entre 26% to 72% para estudios sobre educación y psicología, siendo valores comunes entre 15% to 20%.\n",
        "\n",
        "(Yiran Dong, Chao-Ying Joanne Peng, Principled missing data methods for researchers, Springerplus. 2013; 2: 222. Published online 2013 May 14. doi: 10.1186/2193-1801-2-222\n",
        "https://www.ncbi.nlm.nih.gov/pmc/articles/PMC3701793/ )\n",
        "\n",
        "Notas diversas encontradas en foros de internet sugieren valores entre 25% y 30% como aceptables.\n",
        "\n",
        "Para el presente trabajo descartaremos las columnas con más de 25% de datos faltantes.\n",
        "\n",
        "Descartaremos 7 columnas, que serán las siguientes:\n",
        "\n",
        "- KFK_BLOOD (Serum CPK content). Faltantes: 99.8%\n",
        "\n",
        "- IBS_NASL (Heredity on CHD)). Faltantes: 95.8%\n",
        "\n",
        "- S_AD_KBRIG (Systolic blood pressure according to Emergency Cardiology Team). Faltantes: 63.3%\n",
        "\n",
        "- D_AD_KBRIG (Diastolic blood pressure according to Emergency Cardiology Team). Faltantes: 63.3%\n",
        "\n",
        "- NOT_NA_KB (Use of NSAIDs by the Emergency Cardiology Team). Faltantes: 40.4%\n",
        "\n",
        "- LID_KB (Use of lidocaine by the Emergency Cardiology Team). Faltantes: 39.8%\n",
        "\n",
        "- NA_KB (Use of opioid drugs by the Emergency Cardiology Team). Faltantes: 38.6%\n",
        "\n",
        "Nota: Todas estas columnas corresponden a datos médicos de los pacientes durante su tratamiento. No contienen información sobre las complicaciones."
      ],
      "metadata": {
        "id": "xrL76mOQXSEV"
      }
    },
    {
      "cell_type": "code",
      "source": [
        "# PREPROCESAMIENTO - PASO 1\n",
        "# Eliminación de columnas con muchos datos únicos y faltantes.\n",
        "# Se eliminan 8 columnas en total.\n",
        "\n",
        "mic_data2 = mic_data1.copy()\n",
        "\n",
        "col_elim = ['ID','KFK_BLOOD','IBS_NASL','S_AD_KBRIG','D_AD_KBRIG','NOT_NA_KB','LID_KB','NA_KB']\n",
        "mic_data2.drop(col_elim, axis=1, inplace=True)"
      ],
      "metadata": {
        "id": "afGftwirJUdX"
      },
      "execution_count": 34,
      "outputs": []
    },
    {
      "cell_type": "code",
      "source": [
        "mic_data2.shape"
      ],
      "metadata": {
        "colab": {
          "base_uri": "https://localhost:8080/"
        },
        "id": "VyG9klyX2Kpm",
        "outputId": "931c4739-0dfe-4aff-b02e-32959629d1a4"
      },
      "execution_count": 40,
      "outputs": [
        {
          "output_type": "execute_result",
          "data": {
            "text/plain": [
              "(1700, 116)"
            ]
          },
          "metadata": {},
          "execution_count": 40
        }
      ]
    },
    {
      "cell_type": "markdown",
      "source": [
        "De acuerdo a la descripción de datos, las últimnas 12 columnas tienen informacion sobre las complicaciones.\n",
        "- Columnas 113 a 123 (número original de columna): Complicaciones específicas. Todas tienen valores binarios.\n",
        "- Columna 124 (número original de columna) - LET_IS: Causa de resultado letal. Contiene un número: Cero significa que el caso no fue letal. Del 1 al 7 indica la causa de la letalidad.\n",
        "\n",
        "Analizaremos qué proporción de casos presentaron complicaciones, cuántas complicaciones se pueden presentar en cada caso y qué proporción de casos fueron letales."
      ],
      "metadata": {
        "id": "G5WTaaCR0R8u"
      }
    },
    {
      "cell_type": "code",
      "source": [
        "col_causas = ['FIBR_PREDS','PREDS_TAH','JELUD_TAH','FIBR_JELUD','A_V_BLOK','OTEK_LANC','RAZRIV','DRESSLER','ZSN','REC_IM','P_IM_STEN']\n",
        "\n",
        "tuvo_complic = mic_data2[col_causas].sum(axis=1) > 0\n",
        "\n",
        "# mic_data2['CON_COMPLIC'] = mic_data2[tuvo_complic]\n",
        "# mic_data2['LETAL'] = mic_data2['LET_IS'] > 0\n",
        "mic_data2['NUM_COMPLIC'] = mic_data2[col_causas].sum(axis=1)\n",
        "\n",
        "print('Casos ordenados por número de complicaciones:')\n",
        "mic_data2.sort_values('NUM_COMPLIC', ascending = False)['CON_COMPLIC'].head(15)"
      ],
      "metadata": {
        "colab": {
          "base_uri": "https://localhost:8080/"
        },
        "id": "xjg39KR-yAgE",
        "outputId": "d7f1b09a-f19a-4bbe-a32e-86ebafc1a3a9"
      },
      "execution_count": 57,
      "outputs": [
        {
          "output_type": "stream",
          "name": "stdout",
          "text": [
            "Casos ordenados por número de complicaciones:\n"
          ]
        },
        {
          "output_type": "execute_result",
          "data": {
            "text/plain": [
              "1121    5\n",
              "1376    5\n",
              "1163    4\n",
              "1624    4\n",
              "1489    4\n",
              "1374    4\n",
              "1288    4\n",
              "1197    4\n",
              "1194    4\n",
              "894     4\n",
              "1226    4\n",
              "1178    4\n",
              "1005    4\n",
              "1022    4\n",
              "1258    4\n",
              "Name: CON_COMPLIC, dtype: int64"
            ]
          },
          "metadata": {},
          "execution_count": 57
        }
      ]
    },
    {
      "cell_type": "markdown",
      "source": [
        "**Se aprecia que puede haber casos hasta con 5 complicaciones.**\n",
        "\n",
        "**Por lo tanto, el modelo predictivo no podría usar las columnas de complicaciones como categoría de clasificación porque no son excluyentes.**"
      ],
      "metadata": {
        "id": "zHjDfJiYAXKK"
      }
    },
    {
      "cell_type": "code",
      "source": [
        "seleccion_casos_complic = mic_data2['NUM_COMPLIC'] > 0\n",
        "num_casos_complic = len(mic_data2.loc[mic_data2['NUM_COMPLIC'] > 0])\n",
        "\n",
        "num_casos_let = len(mic_data2.loc[mic_data2['LET_IS'] > 0])\n",
        "\n",
        "cant_casos_mic_data2 = mic_data2.shape[0]\n",
        "print('Total de casos en el conjunto de datos: ',cant_casos_mic_data2)\n",
        "print('Total de casos con complicaciones:      ',num_casos_complic, ' (', '%.1f%%' % (100*num_casos_complic/cant_casos_mic_data2),')')\n",
        "print('Total de casos letales:                 ',num_casos_let, ' (', '%.1f%%' % (100*num_casos_let/cant_casos_mic_data2),')')"
      ],
      "metadata": {
        "colab": {
          "base_uri": "https://localhost:8080/"
        },
        "id": "hVYLWtO3D3z7",
        "outputId": "cedd132a-0a84-4b7a-92c3-fa48f56ad733"
      },
      "execution_count": 65,
      "outputs": [
        {
          "output_type": "stream",
          "name": "stdout",
          "text": [
            "Total de casos en el conjunto de datos:  1700\n",
            "Total de casos con complicaciones:       935  ( 55.0% )\n",
            "Total de casos letales:                  271  ( 15.9% )\n"
          ]
        }
      ]
    },
    {
      "cell_type": "markdown",
      "source": [
        "# El modelo podría enfoarse en predecir si habrá complicaciones en general o si habrá complicacaiones letales.\n",
        "\n",
        "# De acuerdo a la literatura revisada, las complicaciones son muy comunes (se comprueba con el 55% observado en la en conjunto de datos) y que éstas pueden ser muy leves.\n",
        "\n",
        "# Para efectos del presente trabajo, nos concentramremos en predecir si puede haber complicaciones letales, que son los casos más importantes."
      ],
      "metadata": {
        "id": "PbcXZdJWG-RF"
      }
    }
  ]
}