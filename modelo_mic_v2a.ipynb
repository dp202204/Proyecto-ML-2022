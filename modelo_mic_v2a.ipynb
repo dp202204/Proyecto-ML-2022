{
  "nbformat": 4,
  "nbformat_minor": 0,
  "metadata": {
    "colab": {
      "name": "modelo_mic_v1a.ipynb",
      "provenance": [],
      "collapsed_sections": []
    },
    "kernelspec": {
      "name": "python3",
      "display_name": "Python 3"
    },
    "language_info": {
      "name": "python"
    }
  },
  "cells": [
    {
      "cell_type": "markdown",
      "source": [
        "**Maestría en Informática - PUCP - Aprendizaje Automático**\n",
        "\n",
        "**Proyecto Grupal 2022-1**\n",
        "\n",
        "# **Complicaciones en pacientes que sufrieron infarto al miocardio**"
      ],
      "metadata": {
        "id": "DEBb4eoq_3ht"
      }
    },
    {
      "cell_type": "markdown",
      "source": [
        "Repositorio: https://github.com/dp202204/Proyecto-ML-2022"
      ],
      "metadata": {
        "id": "GE5OuTVxoEFI"
      }
    },
    {
      "cell_type": "code",
      "execution_count": 75,
      "metadata": {
        "id": "xASy4XKy_nb4"
      },
      "outputs": [],
      "source": [
        "import pandas as pd"
      ]
    },
    {
      "cell_type": "code",
      "source": [
        "# Carga de datos - Pacientes que sufrieron infarto al miocardio y sus complicaciones\n",
        "# Datos utilizados:\n",
        "# Myocardial infarction complications Data Set\n",
        "# Center for Machine Learning and Intelligent Systems, Bren School of Information and Computer Science, University of California, Irvine\n",
        "\n",
        "mic_data1 = pd.read_csv('https://leicester.figshare.com/ndownloader/files/23581310')"
      ],
      "metadata": {
        "id": "3i6GO8YBAkcE"
      },
      "execution_count": 76,
      "outputs": []
    },
    {
      "cell_type": "code",
      "source": [
        "mic_data1.shape"
      ],
      "metadata": {
        "colab": {
          "base_uri": "https://localhost:8080/"
        },
        "id": "GzsaKLO4D9Td",
        "outputId": "e75439aa-b463-4853-dcf3-9137925cb533"
      },
      "execution_count": 77,
      "outputs": [
        {
          "output_type": "execute_result",
          "data": {
            "text/plain": [
              "(1700, 124)"
            ]
          },
          "metadata": {},
          "execution_count": 77
        }
      ]
    },
    {
      "cell_type": "code",
      "source": [
        "# Recolección de información general acerca de las columnas y su contenido\n",
        "\n",
        "cant_col_nan      = 0\n",
        "cant_col_sin_nan  = 0\n",
        "cant_col_num      = 0\n",
        "cant_col_binarias = 0\n",
        "\n",
        "for col in mic_data1:\n",
        "  #Determinamos cuantas columna son numericas\n",
        "  if pd.api.types.is_numeric_dtype(mic_data1[col]):\n",
        "    cant_col_num = cant_col_num + 1\n",
        "    if mic_data1[col].nunique() == 2:\n",
        "      cant_col_binarias = cant_col_binarias + 1\n",
        "  #Determinamos que columnas tienen datos faltantes\n",
        "  if mic_data1[col].isna().sum() > 0:\n",
        "    cant_col_nan = cant_col_nan + 1\n",
        "  else:\n",
        "     cant_col_sin_nan = cant_col_sin_nan + 1"
      ],
      "metadata": {
        "id": "Ng0ynKajFU0O"
      },
      "execution_count": 78,
      "outputs": []
    },
    {
      "cell_type": "code",
      "source": [
        "cant_col_mic_data1 = mic_data1.shape[1]\n",
        "print('Total de columnas en el conjunto de datos: ',cant_col_mic_data1)\n",
        "print('Total de columnas numericas:               ',cant_col_num, ' (', '%.1f%%' % (100*cant_col_num/cant_col_mic_data1),')')\n",
        "print('Total de columnas numericas binarias:       ',cant_col_binarias, ' (', '%.1f%%' % (100*cant_col_binarias/cant_col_mic_data1),')')\n",
        "print('Total de columnas con datos faltantes:     ',cant_col_nan, ' (', '%.1f%%' % (100*cant_col_nan/cant_col_mic_data1),')')\n",
        "print('Total de columnas con datos completos:      ',cant_col_sin_nan, ' (Para comprobación)')"
      ],
      "metadata": {
        "colab": {
          "base_uri": "https://localhost:8080/"
        },
        "id": "KpUAUauOJQOm",
        "outputId": "94f88cf1-caa3-453c-c91a-ef9360a2a510"
      },
      "execution_count": 79,
      "outputs": [
        {
          "output_type": "stream",
          "name": "stdout",
          "text": [
            "Total de columnas en el conjunto de datos:  124\n",
            "Total de columnas numericas:                124  ( 100.0% )\n",
            "Total de columnas numericas binarias:        89  ( 71.8% )\n",
            "Total de columnas con datos faltantes:      110  ( 88.7% )\n",
            "Total de columnas con datos completos:       14  (Para comprobación)\n"
          ]
        }
      ]
    },
    {
      "cell_type": "markdown",
      "source": [
        "Todas las columnas son numéricas. Algunas son enteras y otras de punto flotante.\n",
        "\n",
        "89 columnas (71.8%) son binarias, es decir, tiene los valores 0 y 1. Por tanto 35 columan tiene datos no binarios, de estas una parte son ordinales y las identificaremos una a una.\n",
        "\n",
        "La mayoría de las columnas tienen datos faltantes (88.7%)."
      ],
      "metadata": {
        "id": "UD9R9uP9oo_T"
      }
    },
    {
      "cell_type": "code",
      "source": [
        "# Recoleccion de características más específicas de los datos por columna: Datos unicos, datos faltantes\n",
        "\n",
        "cant_filas_mic_data1 = mic_data1.shape[0]\n",
        "mic_caract = pd.DataFrame(mic_data1.nunique(),columns=['Datos_Unicos'])\n",
        "mic_caract['Faltantes'] = mic_data1.isna().sum() / cant_filas_mic_data1 * 100\n",
        "# mic_data.nunique().hist()\n",
        "# mic_data.nunique()"
      ],
      "metadata": {
        "id": "IXvIj5ITUmAB"
      },
      "execution_count": 80,
      "outputs": []
    },
    {
      "cell_type": "code",
      "source": [
        "print ('Columnas con mayor cantidad de datos únicos')\n",
        "print ()\n",
        "mic_caract.sort_values('Datos_Unicos', ascending = False)['Datos_Unicos'].head(37)"
      ],
      "metadata": {
        "colab": {
          "base_uri": "https://localhost:8080/"
        },
        "id": "aalxYYDH5bif",
        "outputId": "8ba2968c-7a8d-484d-da93-d5114d5d12b8"
      },
      "execution_count": 81,
      "outputs": [
        {
          "output_type": "stream",
          "name": "stdout",
          "text": [
            "Columnas con mayor cantidad de datos únicos\n",
            "\n"
          ]
        },
        {
          "output_type": "execute_result",
          "data": {
            "text/plain": [
              "ID             1700\n",
              "L_BLOOD         174\n",
              "ALT_BLOOD        69\n",
              "AGE              62\n",
              "ROE              58\n",
              "AST_BLOOD        58\n",
              "K_BLOOD          51\n",
              "NA_BLOOD         40\n",
              "S_AD_ORIT        32\n",
              "S_AD_KBRIG       30\n",
              "D_AD_KBRIG       21\n",
              "D_AD_ORIT        20\n",
              "TIME_B_S          9\n",
              "LET_IS            8\n",
              "DLIT_AG           8\n",
              "STENOK_AN         7\n",
              "post_im           5\n",
              "inf_im            5\n",
              "lat_im            5\n",
              "ant_im            5\n",
              "NA_R_1_n          5\n",
              "NOT_NA_1_n        5\n",
              "ZSN_A             5\n",
              "FK_STENOK         5\n",
              "KFK_BLOOD         4\n",
              "R_AB_2_n          4\n",
              "R_AB_1_n          4\n",
              "NA_R_2_n          4\n",
              "NOT_NA_2_n        4\n",
              "INF_ANAM          4\n",
              "R_AB_3_n          4\n",
              "GB                4\n",
              "NOT_NA_3_n        3\n",
              "NA_R_3_n          3\n",
              "IBS_POST          3\n",
              "NA_KB             2\n",
              "fibr_ter_06       2\n",
              "Name: Datos_Unicos, dtype: int64"
            ]
          },
          "metadata": {},
          "execution_count": 81
        }
      ]
    },
    {
      "cell_type": "markdown",
      "source": [
        "De acuerdo al análisis de datos únicos, solo la columna ID contiene información que no sería útil.\n",
        "\n",
        "Descartaremos la columna ID."
      ],
      "metadata": {
        "id": "rwkYtmUNrmhB"
      }
    },
    {
      "cell_type": "code",
      "source": [
        "print ('Columnas con mayor porcentaje de datos faltantes')\n",
        "print ()\n",
        "mic_caract.sort_values('Faltantes', ascending = False)['Faltantes'].head(15)"
      ],
      "metadata": {
        "colab": {
          "base_uri": "https://localhost:8080/"
        },
        "id": "P6zj2IsdNgAO",
        "outputId": "0612bcf1-7448-487d-cb4f-d8bc4865e460"
      },
      "execution_count": 82,
      "outputs": [
        {
          "output_type": "stream",
          "name": "stdout",
          "text": [
            "Columnas con mayor porcentaje de datos faltantes\n",
            "\n"
          ]
        },
        {
          "output_type": "execute_result",
          "data": {
            "text/plain": [
              "KFK_BLOOD     99.764706\n",
              "IBS_NASL      95.764706\n",
              "S_AD_KBRIG    63.294118\n",
              "D_AD_KBRIG    63.294118\n",
              "NOT_NA_KB     40.352941\n",
              "LID_KB        39.823529\n",
              "NA_KB         38.647059\n",
              "GIPER_NA      22.058824\n",
              "NA_BLOOD      22.058824\n",
              "K_BLOOD       21.823529\n",
              "GIPO_K        21.705882\n",
              "AST_BLOOD     16.764706\n",
              "ALT_BLOOD     16.705882\n",
              "S_AD_ORIT     15.705882\n",
              "D_AD_ORIT     15.705882\n",
              "Name: Faltantes, dtype: float64"
            ]
          },
          "metadata": {},
          "execution_count": 82
        }
      ]
    },
    {
      "cell_type": "markdown",
      "source": [
        "De acuerdo a algunos autores, la proporción de valores faltantes en estudios científicos es muy variable y puede alcanzar niveles de entre 26% to 72% para estudios sobre educación y psicología, siendo valores comunes entre 15% to 20%.\n",
        "\n",
        "(Yiran Dong, Chao-Ying Joanne Peng, Principled missing data methods for researchers, Springerplus. 2013; 2: 222. Published online 2013 May 14. doi: 10.1186/2193-1801-2-222\n",
        "https://www.ncbi.nlm.nih.gov/pmc/articles/PMC3701793/ )\n",
        "\n",
        "Notas diversas encontradas en foros de internet sugieren valores entre 25% y 30% como aceptables.\n",
        "\n",
        "Para el presente trabajo descartaremos las columnas con más de 25% de datos faltantes.\n",
        "\n",
        "Descartaremos 7 columnas, que serán las siguientes:\n",
        "\n",
        "- KFK_BLOOD (Serum CPK content). Faltantes: 99.8%\n",
        "\n",
        "- IBS_NASL (Heredity on CHD)). Faltantes: 95.8%\n",
        "\n",
        "- S_AD_KBRIG (Systolic blood pressure according to Emergency Cardiology Team). Faltantes: 63.3%\n",
        "\n",
        "- D_AD_KBRIG (Diastolic blood pressure according to Emergency Cardiology Team). Faltantes: 63.3%\n",
        "\n",
        "- NOT_NA_KB (Use of NSAIDs by the Emergency Cardiology Team). Faltantes: 40.4%\n",
        "\n",
        "- LID_KB (Use of lidocaine by the Emergency Cardiology Team). Faltantes: 39.8%\n",
        "\n",
        "- NA_KB (Use of opioid drugs by the Emergency Cardiology Team). Faltantes: 38.6%\n",
        "\n",
        "Nota: Todas estas columnas corresponden a datos médicos de los pacientes durante su tratamiento. No contienen información sobre las complicaciones."
      ],
      "metadata": {
        "id": "xrL76mOQXSEV"
      }
    },
    {
      "cell_type": "code",
      "source": [
        "# PREPROCESAMIENTO - PASO 1\n",
        "# Eliminación de columnas con muchos datos únicos y faltantes.\n",
        "# Se eliminan 8 columnas en total.\n",
        "\n",
        "mic_data2 = mic_data1.copy()\n",
        "\n",
        "col_elim = ['ID','KFK_BLOOD','IBS_NASL','S_AD_KBRIG','D_AD_KBRIG','NOT_NA_KB','LID_KB','NA_KB']\n",
        "mic_data2.drop(col_elim, axis=1, inplace=True)"
      ],
      "metadata": {
        "id": "afGftwirJUdX"
      },
      "execution_count": 83,
      "outputs": []
    },
    {
      "cell_type": "code",
      "source": [
        "mic_data2.shape"
      ],
      "metadata": {
        "colab": {
          "base_uri": "https://localhost:8080/"
        },
        "id": "VyG9klyX2Kpm",
        "outputId": "8b26dcda-1744-41d5-838a-131f34a5d202"
      },
      "execution_count": 84,
      "outputs": [
        {
          "output_type": "execute_result",
          "data": {
            "text/plain": [
              "(1700, 116)"
            ]
          },
          "metadata": {},
          "execution_count": 84
        }
      ]
    },
    {
      "cell_type": "markdown",
      "source": [
        "De acuerdo a la descripción de datos, las últimnas 12 columnas tienen informacion sobre las complicaciones.\n",
        "- Columnas 113 a 123 (número original de columna): Complicaciones específicas. Todas tienen valores binarios.\n",
        "- Columna 124 (número original de columna) - LET_IS: Causa de resultado letal. Contiene un número: Cero significa que el caso no fue letal. Del 1 al 7 indica la causa de la letalidad.\n",
        "\n",
        "Analizaremos qué proporción de casos presentaron complicaciones, cuántas complicaciones se pueden presentar en cada caso y qué proporción de casos fueron letales."
      ],
      "metadata": {
        "id": "G5WTaaCR0R8u"
      }
    },
    {
      "cell_type": "code",
      "source": [
        "col_causas = ['FIBR_PREDS','PREDS_TAH','JELUD_TAH','FIBR_JELUD','A_V_BLOK','OTEK_LANC','RAZRIV','DRESSLER','ZSN','REC_IM','P_IM_STEN']\n",
        "\n",
        "tuvo_complic = mic_data2[col_causas].sum(axis=1) > 0\n",
        "\n",
        "# mic_data2['CON_COMPLIC'] = mic_data2[tuvo_complic]\n",
        "# mic_data2['LETAL'] = mic_data2['LET_IS'] > 0\n",
        "mic_data2['NUM_COMPLIC'] = mic_data2[col_causas].sum(axis=1)\n",
        "\n",
        "print('Casos ordenados por número de complicaciones:')\n",
        "mic_data2.sort_values('NUM_COMPLIC', ascending = False)['NUM_COMPLIC'].head(15)"
      ],
      "metadata": {
        "colab": {
          "base_uri": "https://localhost:8080/"
        },
        "id": "xjg39KR-yAgE",
        "outputId": "fc3cb33d-fe17-4490-d7ca-b5c47a075bab"
      },
      "execution_count": 85,
      "outputs": [
        {
          "output_type": "stream",
          "name": "stdout",
          "text": [
            "Casos ordenados por número de complicaciones:\n"
          ]
        },
        {
          "output_type": "execute_result",
          "data": {
            "text/plain": [
              "1121    5\n",
              "1376    5\n",
              "1163    4\n",
              "1624    4\n",
              "1489    4\n",
              "1374    4\n",
              "1288    4\n",
              "1197    4\n",
              "1194    4\n",
              "894     4\n",
              "1226    4\n",
              "1178    4\n",
              "1005    4\n",
              "1022    4\n",
              "1258    4\n",
              "Name: NUM_COMPLIC, dtype: int64"
            ]
          },
          "metadata": {},
          "execution_count": 85
        }
      ]
    },
    {
      "cell_type": "markdown",
      "source": [
        "**Se aprecia que puede haber casos hasta con 5 complicaciones.**\n",
        "\n",
        "**Por lo tanto, el modelo predictivo no podría usar las columnas de complicaciones como categoría de clasificación porque no son excluyentes.**"
      ],
      "metadata": {
        "id": "zHjDfJiYAXKK"
      }
    },
    {
      "cell_type": "code",
      "source": [
        "seleccion_casos_complic = mic_data2['NUM_COMPLIC'] > 0\n",
        "num_casos_complic = len(mic_data2.loc[mic_data2['NUM_COMPLIC'] > 0])\n",
        "\n",
        "num_casos_let = len(mic_data2.loc[mic_data2['LET_IS'] > 0])\n",
        "\n",
        "cant_casos_mic_data2 = mic_data2.shape[0]\n",
        "print('Total de casos en el conjunto de datos: ',cant_casos_mic_data2)\n",
        "print('Total de casos con complicaciones:      ',num_casos_complic, ' (', '%.1f%%' % (100*num_casos_complic/cant_casos_mic_data2),')')\n",
        "print('Total de casos letales:                 ',num_casos_let, ' (', '%.1f%%' % (100*num_casos_let/cant_casos_mic_data2),')')\n"
      ],
      "metadata": {
        "colab": {
          "base_uri": "https://localhost:8080/"
        },
        "id": "hVYLWtO3D3z7",
        "outputId": "61869892-0ef6-4131-a1ff-9f69f8d41bc7"
      },
      "execution_count": 86,
      "outputs": [
        {
          "output_type": "stream",
          "name": "stdout",
          "text": [
            "Total de casos en el conjunto de datos:  1700\n",
            "Total de casos con complicaciones:       935  ( 55.0% )\n",
            "Total de casos letales:                  271  ( 15.9% )\n"
          ]
        }
      ]
    },
    {
      "cell_type": "markdown",
      "source": [
        "# El modelo podría enfoarse en predecir si habrá complicaciones en general o si habrá complicacaiones letales.\n",
        "\n",
        "# De acuerdo a la literatura revisada, las complicaciones son muy comunes (se comprueba con el 55% observado en la en conjunto de datos) y que éstas pueden ser muy leves.\n",
        "\n",
        "# Para efectos del presente trabajo, nos concentramremos en predecir si puede haber complicaciones letales, que son los casos más importantes."
      ],
      "metadata": {
        "id": "PbcXZdJWG-RF"
      }
    },
    {
      "cell_type": "markdown",
      "source": [
        "## Preprocesamiento: Reemplazo de valores nulos"
      ],
      "metadata": {
        "id": "ynFysn7Bijda"
      }
    },
    {
      "cell_type": "code",
      "source": [
        "# Realizando una copia del data frame\n",
        "mic_data3 = mic_data2.copy()"
      ],
      "metadata": {
        "id": "04lmJgsYe_hY"
      },
      "execution_count": 87,
      "outputs": []
    },
    {
      "cell_type": "markdown",
      "source": [
        "### Columnas Binarias"
      ],
      "metadata": {
        "id": "U21mQGFSirow"
      }
    },
    {
      "cell_type": "code",
      "source": [
        "# Recolección de información general acerca de las columnas y su contenido\n",
        "\n",
        "col_binary_name = []\n",
        "\n",
        "for col in mic_data3:\n",
        "  #Determinamos cuantas columna son numericas\n",
        "    if mic_data3[col].nunique() == 2:\n",
        "      col_binary_name.append(col)\n",
        "      \n",
        "col_binary_name"
      ],
      "metadata": {
        "colab": {
          "base_uri": "https://localhost:8080/"
        },
        "id": "LtjCk2Buc3gK",
        "outputId": "96a83cde-233e-4c31-9374-847bc8286e0d"
      },
      "execution_count": 88,
      "outputs": [
        {
          "output_type": "execute_result",
          "data": {
            "text/plain": [
              "['SEX',\n",
              " 'SIM_GIPERT',\n",
              " 'nr_11',\n",
              " 'nr_01',\n",
              " 'nr_02',\n",
              " 'nr_03',\n",
              " 'nr_04',\n",
              " 'nr_07',\n",
              " 'nr_08',\n",
              " 'np_01',\n",
              " 'np_04',\n",
              " 'np_05',\n",
              " 'np_07',\n",
              " 'np_08',\n",
              " 'np_09',\n",
              " 'np_10',\n",
              " 'endocr_01',\n",
              " 'endocr_02',\n",
              " 'endocr_03',\n",
              " 'zab_leg_01',\n",
              " 'zab_leg_02',\n",
              " 'zab_leg_03',\n",
              " 'zab_leg_04',\n",
              " 'zab_leg_06',\n",
              " 'O_L_POST',\n",
              " 'K_SH_POST',\n",
              " 'MP_TP_POST',\n",
              " 'SVT_POST',\n",
              " 'GT_POST',\n",
              " 'FIB_G_POST',\n",
              " 'IM_PG_P',\n",
              " 'ritm_ecg_p_01',\n",
              " 'ritm_ecg_p_02',\n",
              " 'ritm_ecg_p_04',\n",
              " 'ritm_ecg_p_06',\n",
              " 'ritm_ecg_p_07',\n",
              " 'ritm_ecg_p_08',\n",
              " 'n_r_ecg_p_01',\n",
              " 'n_r_ecg_p_02',\n",
              " 'n_r_ecg_p_03',\n",
              " 'n_r_ecg_p_04',\n",
              " 'n_r_ecg_p_05',\n",
              " 'n_r_ecg_p_06',\n",
              " 'n_r_ecg_p_08',\n",
              " 'n_r_ecg_p_09',\n",
              " 'n_r_ecg_p_10',\n",
              " 'n_p_ecg_p_01',\n",
              " 'n_p_ecg_p_03',\n",
              " 'n_p_ecg_p_04',\n",
              " 'n_p_ecg_p_05',\n",
              " 'n_p_ecg_p_06',\n",
              " 'n_p_ecg_p_07',\n",
              " 'n_p_ecg_p_08',\n",
              " 'n_p_ecg_p_09',\n",
              " 'n_p_ecg_p_10',\n",
              " 'n_p_ecg_p_11',\n",
              " 'n_p_ecg_p_12',\n",
              " 'fibr_ter_01',\n",
              " 'fibr_ter_02',\n",
              " 'fibr_ter_03',\n",
              " 'fibr_ter_05',\n",
              " 'fibr_ter_06',\n",
              " 'fibr_ter_07',\n",
              " 'fibr_ter_08',\n",
              " 'GIPO_K',\n",
              " 'GIPER_NA',\n",
              " 'NITR_S',\n",
              " 'LID_S_n',\n",
              " 'B_BLOK_S_n',\n",
              " 'ANT_CA_S_n',\n",
              " 'GEPAR_S_n',\n",
              " 'ASP_S_n',\n",
              " 'TIKL_S_n',\n",
              " 'TRENT_S_n',\n",
              " 'FIBR_PREDS',\n",
              " 'PREDS_TAH',\n",
              " 'JELUD_TAH',\n",
              " 'FIBR_JELUD',\n",
              " 'A_V_BLOK',\n",
              " 'OTEK_LANC',\n",
              " 'RAZRIV',\n",
              " 'DRESSLER',\n",
              " 'ZSN',\n",
              " 'REC_IM',\n",
              " 'P_IM_STEN']"
            ]
          },
          "metadata": {},
          "execution_count": 88
        }
      ]
    },
    {
      "cell_type": "code",
      "source": [
        "len(col_binary_name)"
      ],
      "metadata": {
        "colab": {
          "base_uri": "https://localhost:8080/"
        },
        "id": "UjghAYnmddIy",
        "outputId": "0a51d3ab-8905-4d91-cb08-8e6ea61fd045"
      },
      "execution_count": 89,
      "outputs": [
        {
          "output_type": "execute_result",
          "data": {
            "text/plain": [
              "85"
            ]
          },
          "metadata": {},
          "execution_count": 89
        }
      ]
    },
    {
      "cell_type": "code",
      "source": [
        "# Creando procedimiento\n",
        "for col in col_binary_name:\n",
        "  # encontrar la moda de la columna\n",
        "  moda = mic_data3[col].mode()[0]\n",
        "\n",
        "  # guardar los nulos\n",
        "  Col_NaN = mic_data3[mic_data3[col].isnull()].index\n",
        "\n",
        "  # Imputamos la moda\n",
        "  mic_data3.loc[Col_NaN,col] = moda\n"
      ],
      "metadata": {
        "id": "02i4Z0KvgDK0"
      },
      "execution_count": 90,
      "outputs": []
    },
    {
      "cell_type": "code",
      "source": [
        "# Verificando si existen nulos en la lista de columnas binarias\n",
        "cant_col_nan = 0\n",
        "\n",
        "for col in col_binary_name:\n",
        "  # Verificar nulos\n",
        "  if mic_data3[col].isna().sum() > 0:\n",
        "    cant_col_nan = cant_col_nan + 1\n",
        "\n",
        "cant_col_nan"
      ],
      "metadata": {
        "colab": {
          "base_uri": "https://localhost:8080/"
        },
        "id": "hZb9ppzRiJiC",
        "outputId": "a72ff0f2-5a85-40e7-9fc5-96891d262beb"
      },
      "execution_count": 91,
      "outputs": [
        {
          "output_type": "execute_result",
          "data": {
            "text/plain": [
              "0"
            ]
          },
          "metadata": {},
          "execution_count": 91
        }
      ]
    },
    {
      "cell_type": "markdown",
      "source": [
        "### Ordinarias"
      ],
      "metadata": {
        "id": "zGcOejK6iuqr"
      }
    },
    {
      "cell_type": "code",
      "source": [
        "col_ordinal_name = {'INF_ANAM','STENOK_AN','FK_STENOK','IBS_POST','GB','DLIT_AG','ZSN_A','ant_im','lat_im','inf_im','post_im','TIME_B_S','R_AB_1_n','NA_R_1_n','NOT_NA_1_n','R_AB_2_n','NA_R_2_n','NOT_NA_2_n','R_AB_3_n','NA_R_3_n','NOT_NA_3_n'}\n"
      ],
      "metadata": {
        "id": "6Xa0dqFFiqOM"
      },
      "execution_count": 92,
      "outputs": []
    },
    {
      "cell_type": "code",
      "source": [
        "# Creando procedimiento\n",
        "for col in col_ordinal_name:\n",
        "  # encontrar la moda de la columna\n",
        "  moda = mic_data3[col].mode()[0]\n",
        "\n",
        "  # guardar los nulos\n",
        "  Col_NaN = mic_data3[mic_data3[col].isnull()].index\n",
        "\n",
        "  # Imputamos la moda\n",
        "  mic_data3.loc[Col_NaN,col] = moda"
      ],
      "metadata": {
        "id": "A9mLpgJ9l3KD"
      },
      "execution_count": 93,
      "outputs": []
    },
    {
      "cell_type": "code",
      "source": [
        "# Verificando si existen nulos en la lista de columnas binarias\n",
        "cant_col_nan2 = 0\n",
        "\n",
        "for col in col_ordinal_name:\n",
        "  # Verificar nulos\n",
        "  if mic_data3[col].isna().sum() > 0:\n",
        "    cant_col_nan2 = cant_col_nan2 + 1\n",
        "\n",
        "cant_col_nan2"
      ],
      "metadata": {
        "colab": {
          "base_uri": "https://localhost:8080/"
        },
        "id": "BwE2TQJUmHiI",
        "outputId": "b2763987-c718-4a43-acd1-0de3057a11f2"
      },
      "execution_count": 94,
      "outputs": [
        {
          "output_type": "execute_result",
          "data": {
            "text/plain": [
              "0"
            ]
          },
          "metadata": {},
          "execution_count": 94
        }
      ]
    },
    {
      "cell_type": "markdown",
      "source": [
        "### Numericas"
      ],
      "metadata": {
        "id": "Y1e3VJkLmzww"
      }
    },
    {
      "cell_type": "code",
      "source": [
        "# Creando procedimiento\n",
        "for col in mic_data3:\n",
        "  # encontrar la moda de la columna\n",
        "  mediana = mic_data3[col].median()\n",
        "\n",
        "  # Imputar la mediana a los nulos\n",
        "  mic_data3[col].fillna(mediana, inplace=True)"
      ],
      "metadata": {
        "id": "yfFYzTnnm1up"
      },
      "execution_count": 95,
      "outputs": []
    },
    {
      "cell_type": "code",
      "source": [
        "# Verificando si existen nulos en la lista de columnas binarias\n",
        "cant_col_nan3 = 0\n",
        "\n",
        "for col in mic_data3:\n",
        "  # Verificar nulos\n",
        "  if mic_data3[col].isna().sum() > 0:\n",
        "    cant_col_nan3 = cant_col_nan3 + 1\n",
        "\n",
        "cant_col_nan3"
      ],
      "metadata": {
        "colab": {
          "base_uri": "https://localhost:8080/"
        },
        "id": "brMPrji6nwiY",
        "outputId": "bfd7dd2b-c159-4bc5-82cb-a1dc2501b1f7"
      },
      "execution_count": 96,
      "outputs": [
        {
          "output_type": "execute_result",
          "data": {
            "text/plain": [
              "0"
            ]
          },
          "metadata": {},
          "execution_count": 96
        }
      ]
    },
    {
      "cell_type": "markdown",
      "source": [
        "## Crear la variable explicada (y)"
      ],
      "metadata": {
        "id": "B9K3taugrt6V"
      }
    },
    {
      "cell_type": "markdown",
      "source": [
        "\n",
        "*   Creamos una columna \n",
        "\n"
      ],
      "metadata": {
        "id": "LWYGtvhqs3gP"
      }
    },
    {
      "cell_type": "code",
      "source": [
        "# Realizando una copia del data frame\n",
        "mic_data4 = mic_data3.copy()"
      ],
      "metadata": {
        "id": "wXf1Wl7Ls0Xc"
      },
      "execution_count": 100,
      "outputs": []
    },
    {
      "cell_type": "code",
      "source": [
        "# Verificamos los valores de la columna 'LET_IS'\n",
        "mic_data4['LET_IS'].value_counts()"
      ],
      "metadata": {
        "colab": {
          "base_uri": "https://localhost:8080/"
        },
        "id": "_pUZKGx9uvPr",
        "outputId": "b89c6f87-4af6-4f6f-8208-532e2cc3f2fc"
      },
      "execution_count": 101,
      "outputs": [
        {
          "output_type": "execute_result",
          "data": {
            "text/plain": [
              "0    1429\n",
              "1     110\n",
              "3      54\n",
              "7      27\n",
              "6      27\n",
              "4      23\n",
              "2      18\n",
              "5      12\n",
              "Name: LET_IS, dtype: int64"
            ]
          },
          "metadata": {},
          "execution_count": 101
        }
      ]
    },
    {
      "cell_type": "code",
      "source": [
        "# Diccionario para crear la columna target\n",
        "Diccionario = {0:0, 1:1, 2:1, 3:1, 4:1, 5:1, 6:1, 7:1}\n",
        "\n",
        "# Columna target\n",
        "mic_data4['LETALIDAD'] = mic_data4['LET_IS']\n",
        "\n",
        "# Ajuste columna target\n",
        "mic_data4=mic_data4.replace({ 'LETALIDAD': Diccionario})\n",
        "  "
      ],
      "metadata": {
        "id": "10PKcmSNthtv"
      },
      "execution_count": 102,
      "outputs": []
    },
    {
      "cell_type": "code",
      "source": [
        "# Verificamos los valores de la columna 'LETALIDAD'\n",
        "mic_data4['LETALIDAD'].value_counts()"
      ],
      "metadata": {
        "colab": {
          "base_uri": "https://localhost:8080/"
        },
        "id": "MTiIramCvflQ",
        "outputId": "cc7e40c0-310d-473b-a104-1afc798850fe"
      },
      "execution_count": 103,
      "outputs": [
        {
          "output_type": "execute_result",
          "data": {
            "text/plain": [
              "0    1429\n",
              "1     271\n",
              "Name: LETALIDAD, dtype: int64"
            ]
          },
          "metadata": {},
          "execution_count": 103
        }
      ]
    },
    {
      "cell_type": "code",
      "source": [
        "# Borrar las columnas\n",
        "col_a_eliminar = ['FIBR_PREDS','PREDS_TAH','JELUD_TAH','FIBR_JELUD','A_V_BLOK','OTEK_LANC','RAZRIV','DRESSLER','ZSN','REC_IM','P_IM_STEN', 'LET_IS']\n",
        "mic_data4.drop(col_a_eliminar, axis=1, inplace=True)"
      ],
      "metadata": {
        "id": "8sED3dyDvxrZ"
      },
      "execution_count": null,
      "outputs": []
    },
    {
      "cell_type": "code",
      "source": [
        "mic_data4.shape"
      ],
      "metadata": {
        "colab": {
          "base_uri": "https://localhost:8080/"
        },
        "id": "BhjmH6gPwjvZ",
        "outputId": "5aca4139-53ff-42d4-bdf9-60e9ce827c0b"
      },
      "execution_count": 106,
      "outputs": [
        {
          "output_type": "execute_result",
          "data": {
            "text/plain": [
              "(1700, 106)"
            ]
          },
          "metadata": {},
          "execution_count": 106
        }
      ]
    },
    {
      "cell_type": "markdown",
      "source": [
        "## Normalizando los datos"
      ],
      "metadata": {
        "id": "13pZEvBwmZix"
      }
    },
    {
      "cell_type": "code",
      "source": [
        "# Obteniendo la lista de columnas no binarias, no ordinales a normalizar\n",
        "columnas_a_normalizar = []\n",
        "\n",
        "for col in mic_data4:\n",
        "  if mic_data4[col].nunique() != 2:\n",
        "    columnas_a_normalizar.append(col)\n",
        "\n",
        "# Visualizar las columnas encontradas\n",
        "columnas_a_normalizar"
      ],
      "metadata": {
        "colab": {
          "base_uri": "https://localhost:8080/"
        },
        "id": "t-LKvAnqoA-p",
        "outputId": "68f482ee-dad3-48e7-ac70-411a8e851ba0"
      },
      "execution_count": 107,
      "outputs": [
        {
          "output_type": "execute_result",
          "data": {
            "text/plain": [
              "['AGE',\n",
              " 'INF_ANAM',\n",
              " 'STENOK_AN',\n",
              " 'FK_STENOK',\n",
              " 'IBS_POST',\n",
              " 'GB',\n",
              " 'DLIT_AG',\n",
              " 'ZSN_A',\n",
              " 'S_AD_ORIT',\n",
              " 'D_AD_ORIT',\n",
              " 'ant_im',\n",
              " 'lat_im',\n",
              " 'inf_im',\n",
              " 'post_im',\n",
              " 'K_BLOOD',\n",
              " 'NA_BLOOD',\n",
              " 'ALT_BLOOD',\n",
              " 'AST_BLOOD',\n",
              " 'L_BLOOD',\n",
              " 'ROE',\n",
              " 'TIME_B_S',\n",
              " 'R_AB_1_n',\n",
              " 'R_AB_2_n',\n",
              " 'R_AB_3_n',\n",
              " 'NA_R_1_n',\n",
              " 'NA_R_2_n',\n",
              " 'NA_R_3_n',\n",
              " 'NOT_NA_1_n',\n",
              " 'NOT_NA_2_n',\n",
              " 'NOT_NA_3_n',\n",
              " 'NUM_COMPLIC']"
            ]
          },
          "metadata": {},
          "execution_count": 107
        }
      ]
    },
    {
      "cell_type": "code",
      "source": [
        "# Normalizar los valores entre 0 y 1\n",
        "from sklearn.preprocessing import MinMaxScaler\n",
        "\n",
        "estandarizador = MinMaxScaler()\n",
        "mic_data4[columnas_a_normalizar] = estandarizador.fit_transform(mic_data4[columnas_a_normalizar])\n",
        "mic_data4.head()"
      ],
      "metadata": {
        "colab": {
          "base_uri": "https://localhost:8080/",
          "height": 279
        },
        "id": "oBTDS2HbpjWf",
        "outputId": "74a1d87b-d897-4cbb-ca26-f809740c365d"
      },
      "execution_count": 108,
      "outputs": [
        {
          "output_type": "execute_result",
          "data": {
            "text/plain": [
              "        AGE  SEX  INF_ANAM  STENOK_AN  FK_STENOK  IBS_POST        GB  \\\n",
              "0  0.772727    1  0.666667   0.166667       0.25       1.0  1.000000   \n",
              "1  0.439394    1  0.333333   0.000000       0.00       0.0  0.000000   \n",
              "2  0.393939    1  0.000000   0.000000       0.00       1.0  0.666667   \n",
              "3  0.636364    0  0.000000   0.000000       0.00       1.0  0.666667   \n",
              "4  0.515152    1  0.000000   0.000000       0.00       1.0  1.000000   \n",
              "\n",
              "   SIM_GIPERT   DLIT_AG  ZSN_A  ...  NOT_NA_3_n  LID_S_n  B_BLOK_S_n  \\\n",
              "0         0.0  1.000000   0.00  ...         0.0      1.0         0.0   \n",
              "1         0.0  0.000000   0.00  ...         0.0      1.0         0.0   \n",
              "2         0.0  0.285714   0.00  ...         1.0      1.0         1.0   \n",
              "3         0.0  0.428571   0.25  ...         0.0      0.0         0.0   \n",
              "4         0.0  1.000000   0.00  ...         0.0      0.0         0.0   \n",
              "\n",
              "   ANT_CA_S_n  GEPAR_S_n  ASP_S_n  TIKL_S_n  TRENT_S_n  NUM_COMPLIC  LETALIDAD  \n",
              "0         0.0        1.0      1.0       0.0        0.0          0.0          0  \n",
              "1         1.0        1.0      1.0       0.0        1.0          0.0          0  \n",
              "2         0.0        1.0      1.0       0.0        0.0          0.0          0  \n",
              "3         1.0        1.0      1.0       0.0        0.0          0.2          0  \n",
              "4         1.0        0.0      1.0       0.0        1.0          0.0          0  \n",
              "\n",
              "[5 rows x 106 columns]"
            ],
            "text/html": [
              "\n",
              "  <div id=\"df-3b0ef3eb-b7e2-469f-80d2-87eaa5a1052e\">\n",
              "    <div class=\"colab-df-container\">\n",
              "      <div>\n",
              "<style scoped>\n",
              "    .dataframe tbody tr th:only-of-type {\n",
              "        vertical-align: middle;\n",
              "    }\n",
              "\n",
              "    .dataframe tbody tr th {\n",
              "        vertical-align: top;\n",
              "    }\n",
              "\n",
              "    .dataframe thead th {\n",
              "        text-align: right;\n",
              "    }\n",
              "</style>\n",
              "<table border=\"1\" class=\"dataframe\">\n",
              "  <thead>\n",
              "    <tr style=\"text-align: right;\">\n",
              "      <th></th>\n",
              "      <th>AGE</th>\n",
              "      <th>SEX</th>\n",
              "      <th>INF_ANAM</th>\n",
              "      <th>STENOK_AN</th>\n",
              "      <th>FK_STENOK</th>\n",
              "      <th>IBS_POST</th>\n",
              "      <th>GB</th>\n",
              "      <th>SIM_GIPERT</th>\n",
              "      <th>DLIT_AG</th>\n",
              "      <th>ZSN_A</th>\n",
              "      <th>...</th>\n",
              "      <th>NOT_NA_3_n</th>\n",
              "      <th>LID_S_n</th>\n",
              "      <th>B_BLOK_S_n</th>\n",
              "      <th>ANT_CA_S_n</th>\n",
              "      <th>GEPAR_S_n</th>\n",
              "      <th>ASP_S_n</th>\n",
              "      <th>TIKL_S_n</th>\n",
              "      <th>TRENT_S_n</th>\n",
              "      <th>NUM_COMPLIC</th>\n",
              "      <th>LETALIDAD</th>\n",
              "    </tr>\n",
              "  </thead>\n",
              "  <tbody>\n",
              "    <tr>\n",
              "      <th>0</th>\n",
              "      <td>0.772727</td>\n",
              "      <td>1</td>\n",
              "      <td>0.666667</td>\n",
              "      <td>0.166667</td>\n",
              "      <td>0.25</td>\n",
              "      <td>1.0</td>\n",
              "      <td>1.000000</td>\n",
              "      <td>0.0</td>\n",
              "      <td>1.000000</td>\n",
              "      <td>0.00</td>\n",
              "      <td>...</td>\n",
              "      <td>0.0</td>\n",
              "      <td>1.0</td>\n",
              "      <td>0.0</td>\n",
              "      <td>0.0</td>\n",
              "      <td>1.0</td>\n",
              "      <td>1.0</td>\n",
              "      <td>0.0</td>\n",
              "      <td>0.0</td>\n",
              "      <td>0.0</td>\n",
              "      <td>0</td>\n",
              "    </tr>\n",
              "    <tr>\n",
              "      <th>1</th>\n",
              "      <td>0.439394</td>\n",
              "      <td>1</td>\n",
              "      <td>0.333333</td>\n",
              "      <td>0.000000</td>\n",
              "      <td>0.00</td>\n",
              "      <td>0.0</td>\n",
              "      <td>0.000000</td>\n",
              "      <td>0.0</td>\n",
              "      <td>0.000000</td>\n",
              "      <td>0.00</td>\n",
              "      <td>...</td>\n",
              "      <td>0.0</td>\n",
              "      <td>1.0</td>\n",
              "      <td>0.0</td>\n",
              "      <td>1.0</td>\n",
              "      <td>1.0</td>\n",
              "      <td>1.0</td>\n",
              "      <td>0.0</td>\n",
              "      <td>1.0</td>\n",
              "      <td>0.0</td>\n",
              "      <td>0</td>\n",
              "    </tr>\n",
              "    <tr>\n",
              "      <th>2</th>\n",
              "      <td>0.393939</td>\n",
              "      <td>1</td>\n",
              "      <td>0.000000</td>\n",
              "      <td>0.000000</td>\n",
              "      <td>0.00</td>\n",
              "      <td>1.0</td>\n",
              "      <td>0.666667</td>\n",
              "      <td>0.0</td>\n",
              "      <td>0.285714</td>\n",
              "      <td>0.00</td>\n",
              "      <td>...</td>\n",
              "      <td>1.0</td>\n",
              "      <td>1.0</td>\n",
              "      <td>1.0</td>\n",
              "      <td>0.0</td>\n",
              "      <td>1.0</td>\n",
              "      <td>1.0</td>\n",
              "      <td>0.0</td>\n",
              "      <td>0.0</td>\n",
              "      <td>0.0</td>\n",
              "      <td>0</td>\n",
              "    </tr>\n",
              "    <tr>\n",
              "      <th>3</th>\n",
              "      <td>0.636364</td>\n",
              "      <td>0</td>\n",
              "      <td>0.000000</td>\n",
              "      <td>0.000000</td>\n",
              "      <td>0.00</td>\n",
              "      <td>1.0</td>\n",
              "      <td>0.666667</td>\n",
              "      <td>0.0</td>\n",
              "      <td>0.428571</td>\n",
              "      <td>0.25</td>\n",
              "      <td>...</td>\n",
              "      <td>0.0</td>\n",
              "      <td>0.0</td>\n",
              "      <td>0.0</td>\n",
              "      <td>1.0</td>\n",
              "      <td>1.0</td>\n",
              "      <td>1.0</td>\n",
              "      <td>0.0</td>\n",
              "      <td>0.0</td>\n",
              "      <td>0.2</td>\n",
              "      <td>0</td>\n",
              "    </tr>\n",
              "    <tr>\n",
              "      <th>4</th>\n",
              "      <td>0.515152</td>\n",
              "      <td>1</td>\n",
              "      <td>0.000000</td>\n",
              "      <td>0.000000</td>\n",
              "      <td>0.00</td>\n",
              "      <td>1.0</td>\n",
              "      <td>1.000000</td>\n",
              "      <td>0.0</td>\n",
              "      <td>1.000000</td>\n",
              "      <td>0.00</td>\n",
              "      <td>...</td>\n",
              "      <td>0.0</td>\n",
              "      <td>0.0</td>\n",
              "      <td>0.0</td>\n",
              "      <td>1.0</td>\n",
              "      <td>0.0</td>\n",
              "      <td>1.0</td>\n",
              "      <td>0.0</td>\n",
              "      <td>1.0</td>\n",
              "      <td>0.0</td>\n",
              "      <td>0</td>\n",
              "    </tr>\n",
              "  </tbody>\n",
              "</table>\n",
              "<p>5 rows × 106 columns</p>\n",
              "</div>\n",
              "      <button class=\"colab-df-convert\" onclick=\"convertToInteractive('df-3b0ef3eb-b7e2-469f-80d2-87eaa5a1052e')\"\n",
              "              title=\"Convert this dataframe to an interactive table.\"\n",
              "              style=\"display:none;\">\n",
              "        \n",
              "  <svg xmlns=\"http://www.w3.org/2000/svg\" height=\"24px\"viewBox=\"0 0 24 24\"\n",
              "       width=\"24px\">\n",
              "    <path d=\"M0 0h24v24H0V0z\" fill=\"none\"/>\n",
              "    <path d=\"M18.56 5.44l.94 2.06.94-2.06 2.06-.94-2.06-.94-.94-2.06-.94 2.06-2.06.94zm-11 1L8.5 8.5l.94-2.06 2.06-.94-2.06-.94L8.5 2.5l-.94 2.06-2.06.94zm10 10l.94 2.06.94-2.06 2.06-.94-2.06-.94-.94-2.06-.94 2.06-2.06.94z\"/><path d=\"M17.41 7.96l-1.37-1.37c-.4-.4-.92-.59-1.43-.59-.52 0-1.04.2-1.43.59L10.3 9.45l-7.72 7.72c-.78.78-.78 2.05 0 2.83L4 21.41c.39.39.9.59 1.41.59.51 0 1.02-.2 1.41-.59l7.78-7.78 2.81-2.81c.8-.78.8-2.07 0-2.86zM5.41 20L4 18.59l7.72-7.72 1.47 1.35L5.41 20z\"/>\n",
              "  </svg>\n",
              "      </button>\n",
              "      \n",
              "  <style>\n",
              "    .colab-df-container {\n",
              "      display:flex;\n",
              "      flex-wrap:wrap;\n",
              "      gap: 12px;\n",
              "    }\n",
              "\n",
              "    .colab-df-convert {\n",
              "      background-color: #E8F0FE;\n",
              "      border: none;\n",
              "      border-radius: 50%;\n",
              "      cursor: pointer;\n",
              "      display: none;\n",
              "      fill: #1967D2;\n",
              "      height: 32px;\n",
              "      padding: 0 0 0 0;\n",
              "      width: 32px;\n",
              "    }\n",
              "\n",
              "    .colab-df-convert:hover {\n",
              "      background-color: #E2EBFA;\n",
              "      box-shadow: 0px 1px 2px rgba(60, 64, 67, 0.3), 0px 1px 3px 1px rgba(60, 64, 67, 0.15);\n",
              "      fill: #174EA6;\n",
              "    }\n",
              "\n",
              "    [theme=dark] .colab-df-convert {\n",
              "      background-color: #3B4455;\n",
              "      fill: #D2E3FC;\n",
              "    }\n",
              "\n",
              "    [theme=dark] .colab-df-convert:hover {\n",
              "      background-color: #434B5C;\n",
              "      box-shadow: 0px 1px 3px 1px rgba(0, 0, 0, 0.15);\n",
              "      filter: drop-shadow(0px 1px 2px rgba(0, 0, 0, 0.3));\n",
              "      fill: #FFFFFF;\n",
              "    }\n",
              "  </style>\n",
              "\n",
              "      <script>\n",
              "        const buttonEl =\n",
              "          document.querySelector('#df-3b0ef3eb-b7e2-469f-80d2-87eaa5a1052e button.colab-df-convert');\n",
              "        buttonEl.style.display =\n",
              "          google.colab.kernel.accessAllowed ? 'block' : 'none';\n",
              "\n",
              "        async function convertToInteractive(key) {\n",
              "          const element = document.querySelector('#df-3b0ef3eb-b7e2-469f-80d2-87eaa5a1052e');\n",
              "          const dataTable =\n",
              "            await google.colab.kernel.invokeFunction('convertToInteractive',\n",
              "                                                     [key], {});\n",
              "          if (!dataTable) return;\n",
              "\n",
              "          const docLinkHtml = 'Like what you see? Visit the ' +\n",
              "            '<a target=\"_blank\" href=https://colab.research.google.com/notebooks/data_table.ipynb>data table notebook</a>'\n",
              "            + ' to learn more about interactive tables.';\n",
              "          element.innerHTML = '';\n",
              "          dataTable['output_type'] = 'display_data';\n",
              "          await google.colab.output.renderOutput(dataTable, element);\n",
              "          const docLink = document.createElement('div');\n",
              "          docLink.innerHTML = docLinkHtml;\n",
              "          element.appendChild(docLink);\n",
              "        }\n",
              "      </script>\n",
              "    </div>\n",
              "  </div>\n",
              "  "
            ]
          },
          "metadata": {},
          "execution_count": 108
        }
      ]
    },
    {
      "cell_type": "code",
      "source": [
        "# Verificando que los valores se encuentren entre 0 y 1 (min y max respectivamente)\n",
        "mic_data4.describe()"
      ],
      "metadata": {
        "colab": {
          "base_uri": "https://localhost:8080/",
          "height": 393
        },
        "id": "XpAbcpx2rKFo",
        "outputId": "42290e3f-69aa-4189-e85d-a5a1335d85fb"
      },
      "execution_count": 109,
      "outputs": [
        {
          "output_type": "execute_result",
          "data": {
            "text/plain": [
              "               AGE          SEX     INF_ANAM    STENOK_AN    FK_STENOK  \\\n",
              "count  1700.000000  1700.000000  1700.000000  1700.000000  1700.000000   \n",
              "mean      0.543369     0.626471     0.184510     0.361961     0.309853   \n",
              "std       0.170207     0.483883     0.278749     0.404786     0.257721   \n",
              "min       0.000000     0.000000     0.000000     0.000000     0.000000   \n",
              "25%       0.424242     0.000000     0.000000     0.000000     0.000000   \n",
              "50%       0.560606     1.000000     0.000000     0.166667     0.500000   \n",
              "75%       0.666667     1.000000     0.333333     0.833333     0.500000   \n",
              "max       1.000000     1.000000     1.000000     1.000000     1.000000   \n",
              "\n",
              "          IBS_POST           GB   SIM_GIPERT      DLIT_AG        ZSN_A  ...  \\\n",
              "count  1700.000000  1700.000000  1700.000000  1700.000000  1700.000000  ...   \n",
              "mean      0.592941     0.465490     0.033529     0.407563     0.047059  ...   \n",
              "std       0.401084     0.362270     0.180067     0.442421     0.162266  ...   \n",
              "min       0.000000     0.000000     0.000000     0.000000     0.000000  ...   \n",
              "25%       0.500000     0.000000     0.000000     0.000000     0.000000  ...   \n",
              "50%       0.500000     0.666667     0.000000     0.142857     0.000000  ...   \n",
              "75%       1.000000     0.666667     0.000000     1.000000     0.000000  ...   \n",
              "max       1.000000     1.000000     1.000000     1.000000     1.000000  ...   \n",
              "\n",
              "        NOT_NA_3_n      LID_S_n   B_BLOK_S_n   ANT_CA_S_n    GEPAR_S_n  \\\n",
              "count  1700.000000  1700.000000  1700.000000  1700.000000  1700.000000   \n",
              "mean      0.039118     0.281765     0.126471     0.669412     0.717647   \n",
              "std       0.170945     0.449992     0.332477     0.470563     0.450277   \n",
              "min       0.000000     0.000000     0.000000     0.000000     0.000000   \n",
              "25%       0.000000     0.000000     0.000000     0.000000     0.000000   \n",
              "50%       0.000000     0.000000     0.000000     1.000000     1.000000   \n",
              "75%       0.000000     1.000000     0.000000     1.000000     1.000000   \n",
              "max       1.000000     1.000000     1.000000     1.000000     1.000000   \n",
              "\n",
              "           ASP_S_n     TIKL_S_n    TRENT_S_n  NUM_COMPLIC    LETALIDAD  \n",
              "count  1700.000000  1700.000000  1700.000000  1700.000000  1700.000000  \n",
              "mean      0.746471     0.017647     0.200588     0.158706     0.159412  \n",
              "std       0.435159     0.131704     0.400558     0.181065     0.366167  \n",
              "min       0.000000     0.000000     0.000000     0.000000     0.000000  \n",
              "25%       0.000000     0.000000     0.000000     0.000000     0.000000  \n",
              "50%       1.000000     0.000000     0.000000     0.200000     0.000000  \n",
              "75%       1.000000     0.000000     0.000000     0.200000     0.000000  \n",
              "max       1.000000     1.000000     1.000000     1.000000     1.000000  \n",
              "\n",
              "[8 rows x 106 columns]"
            ],
            "text/html": [
              "\n",
              "  <div id=\"df-506dc38a-0dec-4409-8386-95a644400723\">\n",
              "    <div class=\"colab-df-container\">\n",
              "      <div>\n",
              "<style scoped>\n",
              "    .dataframe tbody tr th:only-of-type {\n",
              "        vertical-align: middle;\n",
              "    }\n",
              "\n",
              "    .dataframe tbody tr th {\n",
              "        vertical-align: top;\n",
              "    }\n",
              "\n",
              "    .dataframe thead th {\n",
              "        text-align: right;\n",
              "    }\n",
              "</style>\n",
              "<table border=\"1\" class=\"dataframe\">\n",
              "  <thead>\n",
              "    <tr style=\"text-align: right;\">\n",
              "      <th></th>\n",
              "      <th>AGE</th>\n",
              "      <th>SEX</th>\n",
              "      <th>INF_ANAM</th>\n",
              "      <th>STENOK_AN</th>\n",
              "      <th>FK_STENOK</th>\n",
              "      <th>IBS_POST</th>\n",
              "      <th>GB</th>\n",
              "      <th>SIM_GIPERT</th>\n",
              "      <th>DLIT_AG</th>\n",
              "      <th>ZSN_A</th>\n",
              "      <th>...</th>\n",
              "      <th>NOT_NA_3_n</th>\n",
              "      <th>LID_S_n</th>\n",
              "      <th>B_BLOK_S_n</th>\n",
              "      <th>ANT_CA_S_n</th>\n",
              "      <th>GEPAR_S_n</th>\n",
              "      <th>ASP_S_n</th>\n",
              "      <th>TIKL_S_n</th>\n",
              "      <th>TRENT_S_n</th>\n",
              "      <th>NUM_COMPLIC</th>\n",
              "      <th>LETALIDAD</th>\n",
              "    </tr>\n",
              "  </thead>\n",
              "  <tbody>\n",
              "    <tr>\n",
              "      <th>count</th>\n",
              "      <td>1700.000000</td>\n",
              "      <td>1700.000000</td>\n",
              "      <td>1700.000000</td>\n",
              "      <td>1700.000000</td>\n",
              "      <td>1700.000000</td>\n",
              "      <td>1700.000000</td>\n",
              "      <td>1700.000000</td>\n",
              "      <td>1700.000000</td>\n",
              "      <td>1700.000000</td>\n",
              "      <td>1700.000000</td>\n",
              "      <td>...</td>\n",
              "      <td>1700.000000</td>\n",
              "      <td>1700.000000</td>\n",
              "      <td>1700.000000</td>\n",
              "      <td>1700.000000</td>\n",
              "      <td>1700.000000</td>\n",
              "      <td>1700.000000</td>\n",
              "      <td>1700.000000</td>\n",
              "      <td>1700.000000</td>\n",
              "      <td>1700.000000</td>\n",
              "      <td>1700.000000</td>\n",
              "    </tr>\n",
              "    <tr>\n",
              "      <th>mean</th>\n",
              "      <td>0.543369</td>\n",
              "      <td>0.626471</td>\n",
              "      <td>0.184510</td>\n",
              "      <td>0.361961</td>\n",
              "      <td>0.309853</td>\n",
              "      <td>0.592941</td>\n",
              "      <td>0.465490</td>\n",
              "      <td>0.033529</td>\n",
              "      <td>0.407563</td>\n",
              "      <td>0.047059</td>\n",
              "      <td>...</td>\n",
              "      <td>0.039118</td>\n",
              "      <td>0.281765</td>\n",
              "      <td>0.126471</td>\n",
              "      <td>0.669412</td>\n",
              "      <td>0.717647</td>\n",
              "      <td>0.746471</td>\n",
              "      <td>0.017647</td>\n",
              "      <td>0.200588</td>\n",
              "      <td>0.158706</td>\n",
              "      <td>0.159412</td>\n",
              "    </tr>\n",
              "    <tr>\n",
              "      <th>std</th>\n",
              "      <td>0.170207</td>\n",
              "      <td>0.483883</td>\n",
              "      <td>0.278749</td>\n",
              "      <td>0.404786</td>\n",
              "      <td>0.257721</td>\n",
              "      <td>0.401084</td>\n",
              "      <td>0.362270</td>\n",
              "      <td>0.180067</td>\n",
              "      <td>0.442421</td>\n",
              "      <td>0.162266</td>\n",
              "      <td>...</td>\n",
              "      <td>0.170945</td>\n",
              "      <td>0.449992</td>\n",
              "      <td>0.332477</td>\n",
              "      <td>0.470563</td>\n",
              "      <td>0.450277</td>\n",
              "      <td>0.435159</td>\n",
              "      <td>0.131704</td>\n",
              "      <td>0.400558</td>\n",
              "      <td>0.181065</td>\n",
              "      <td>0.366167</td>\n",
              "    </tr>\n",
              "    <tr>\n",
              "      <th>min</th>\n",
              "      <td>0.000000</td>\n",
              "      <td>0.000000</td>\n",
              "      <td>0.000000</td>\n",
              "      <td>0.000000</td>\n",
              "      <td>0.000000</td>\n",
              "      <td>0.000000</td>\n",
              "      <td>0.000000</td>\n",
              "      <td>0.000000</td>\n",
              "      <td>0.000000</td>\n",
              "      <td>0.000000</td>\n",
              "      <td>...</td>\n",
              "      <td>0.000000</td>\n",
              "      <td>0.000000</td>\n",
              "      <td>0.000000</td>\n",
              "      <td>0.000000</td>\n",
              "      <td>0.000000</td>\n",
              "      <td>0.000000</td>\n",
              "      <td>0.000000</td>\n",
              "      <td>0.000000</td>\n",
              "      <td>0.000000</td>\n",
              "      <td>0.000000</td>\n",
              "    </tr>\n",
              "    <tr>\n",
              "      <th>25%</th>\n",
              "      <td>0.424242</td>\n",
              "      <td>0.000000</td>\n",
              "      <td>0.000000</td>\n",
              "      <td>0.000000</td>\n",
              "      <td>0.000000</td>\n",
              "      <td>0.500000</td>\n",
              "      <td>0.000000</td>\n",
              "      <td>0.000000</td>\n",
              "      <td>0.000000</td>\n",
              "      <td>0.000000</td>\n",
              "      <td>...</td>\n",
              "      <td>0.000000</td>\n",
              "      <td>0.000000</td>\n",
              "      <td>0.000000</td>\n",
              "      <td>0.000000</td>\n",
              "      <td>0.000000</td>\n",
              "      <td>0.000000</td>\n",
              "      <td>0.000000</td>\n",
              "      <td>0.000000</td>\n",
              "      <td>0.000000</td>\n",
              "      <td>0.000000</td>\n",
              "    </tr>\n",
              "    <tr>\n",
              "      <th>50%</th>\n",
              "      <td>0.560606</td>\n",
              "      <td>1.000000</td>\n",
              "      <td>0.000000</td>\n",
              "      <td>0.166667</td>\n",
              "      <td>0.500000</td>\n",
              "      <td>0.500000</td>\n",
              "      <td>0.666667</td>\n",
              "      <td>0.000000</td>\n",
              "      <td>0.142857</td>\n",
              "      <td>0.000000</td>\n",
              "      <td>...</td>\n",
              "      <td>0.000000</td>\n",
              "      <td>0.000000</td>\n",
              "      <td>0.000000</td>\n",
              "      <td>1.000000</td>\n",
              "      <td>1.000000</td>\n",
              "      <td>1.000000</td>\n",
              "      <td>0.000000</td>\n",
              "      <td>0.000000</td>\n",
              "      <td>0.200000</td>\n",
              "      <td>0.000000</td>\n",
              "    </tr>\n",
              "    <tr>\n",
              "      <th>75%</th>\n",
              "      <td>0.666667</td>\n",
              "      <td>1.000000</td>\n",
              "      <td>0.333333</td>\n",
              "      <td>0.833333</td>\n",
              "      <td>0.500000</td>\n",
              "      <td>1.000000</td>\n",
              "      <td>0.666667</td>\n",
              "      <td>0.000000</td>\n",
              "      <td>1.000000</td>\n",
              "      <td>0.000000</td>\n",
              "      <td>...</td>\n",
              "      <td>0.000000</td>\n",
              "      <td>1.000000</td>\n",
              "      <td>0.000000</td>\n",
              "      <td>1.000000</td>\n",
              "      <td>1.000000</td>\n",
              "      <td>1.000000</td>\n",
              "      <td>0.000000</td>\n",
              "      <td>0.000000</td>\n",
              "      <td>0.200000</td>\n",
              "      <td>0.000000</td>\n",
              "    </tr>\n",
              "    <tr>\n",
              "      <th>max</th>\n",
              "      <td>1.000000</td>\n",
              "      <td>1.000000</td>\n",
              "      <td>1.000000</td>\n",
              "      <td>1.000000</td>\n",
              "      <td>1.000000</td>\n",
              "      <td>1.000000</td>\n",
              "      <td>1.000000</td>\n",
              "      <td>1.000000</td>\n",
              "      <td>1.000000</td>\n",
              "      <td>1.000000</td>\n",
              "      <td>...</td>\n",
              "      <td>1.000000</td>\n",
              "      <td>1.000000</td>\n",
              "      <td>1.000000</td>\n",
              "      <td>1.000000</td>\n",
              "      <td>1.000000</td>\n",
              "      <td>1.000000</td>\n",
              "      <td>1.000000</td>\n",
              "      <td>1.000000</td>\n",
              "      <td>1.000000</td>\n",
              "      <td>1.000000</td>\n",
              "    </tr>\n",
              "  </tbody>\n",
              "</table>\n",
              "<p>8 rows × 106 columns</p>\n",
              "</div>\n",
              "      <button class=\"colab-df-convert\" onclick=\"convertToInteractive('df-506dc38a-0dec-4409-8386-95a644400723')\"\n",
              "              title=\"Convert this dataframe to an interactive table.\"\n",
              "              style=\"display:none;\">\n",
              "        \n",
              "  <svg xmlns=\"http://www.w3.org/2000/svg\" height=\"24px\"viewBox=\"0 0 24 24\"\n",
              "       width=\"24px\">\n",
              "    <path d=\"M0 0h24v24H0V0z\" fill=\"none\"/>\n",
              "    <path d=\"M18.56 5.44l.94 2.06.94-2.06 2.06-.94-2.06-.94-.94-2.06-.94 2.06-2.06.94zm-11 1L8.5 8.5l.94-2.06 2.06-.94-2.06-.94L8.5 2.5l-.94 2.06-2.06.94zm10 10l.94 2.06.94-2.06 2.06-.94-2.06-.94-.94-2.06-.94 2.06-2.06.94z\"/><path d=\"M17.41 7.96l-1.37-1.37c-.4-.4-.92-.59-1.43-.59-.52 0-1.04.2-1.43.59L10.3 9.45l-7.72 7.72c-.78.78-.78 2.05 0 2.83L4 21.41c.39.39.9.59 1.41.59.51 0 1.02-.2 1.41-.59l7.78-7.78 2.81-2.81c.8-.78.8-2.07 0-2.86zM5.41 20L4 18.59l7.72-7.72 1.47 1.35L5.41 20z\"/>\n",
              "  </svg>\n",
              "      </button>\n",
              "      \n",
              "  <style>\n",
              "    .colab-df-container {\n",
              "      display:flex;\n",
              "      flex-wrap:wrap;\n",
              "      gap: 12px;\n",
              "    }\n",
              "\n",
              "    .colab-df-convert {\n",
              "      background-color: #E8F0FE;\n",
              "      border: none;\n",
              "      border-radius: 50%;\n",
              "      cursor: pointer;\n",
              "      display: none;\n",
              "      fill: #1967D2;\n",
              "      height: 32px;\n",
              "      padding: 0 0 0 0;\n",
              "      width: 32px;\n",
              "    }\n",
              "\n",
              "    .colab-df-convert:hover {\n",
              "      background-color: #E2EBFA;\n",
              "      box-shadow: 0px 1px 2px rgba(60, 64, 67, 0.3), 0px 1px 3px 1px rgba(60, 64, 67, 0.15);\n",
              "      fill: #174EA6;\n",
              "    }\n",
              "\n",
              "    [theme=dark] .colab-df-convert {\n",
              "      background-color: #3B4455;\n",
              "      fill: #D2E3FC;\n",
              "    }\n",
              "\n",
              "    [theme=dark] .colab-df-convert:hover {\n",
              "      background-color: #434B5C;\n",
              "      box-shadow: 0px 1px 3px 1px rgba(0, 0, 0, 0.15);\n",
              "      filter: drop-shadow(0px 1px 2px rgba(0, 0, 0, 0.3));\n",
              "      fill: #FFFFFF;\n",
              "    }\n",
              "  </style>\n",
              "\n",
              "      <script>\n",
              "        const buttonEl =\n",
              "          document.querySelector('#df-506dc38a-0dec-4409-8386-95a644400723 button.colab-df-convert');\n",
              "        buttonEl.style.display =\n",
              "          google.colab.kernel.accessAllowed ? 'block' : 'none';\n",
              "\n",
              "        async function convertToInteractive(key) {\n",
              "          const element = document.querySelector('#df-506dc38a-0dec-4409-8386-95a644400723');\n",
              "          const dataTable =\n",
              "            await google.colab.kernel.invokeFunction('convertToInteractive',\n",
              "                                                     [key], {});\n",
              "          if (!dataTable) return;\n",
              "\n",
              "          const docLinkHtml = 'Like what you see? Visit the ' +\n",
              "            '<a target=\"_blank\" href=https://colab.research.google.com/notebooks/data_table.ipynb>data table notebook</a>'\n",
              "            + ' to learn more about interactive tables.';\n",
              "          element.innerHTML = '';\n",
              "          dataTable['output_type'] = 'display_data';\n",
              "          await google.colab.output.renderOutput(dataTable, element);\n",
              "          const docLink = document.createElement('div');\n",
              "          docLink.innerHTML = docLinkHtml;\n",
              "          element.appendChild(docLink);\n",
              "        }\n",
              "      </script>\n",
              "    </div>\n",
              "  </div>\n",
              "  "
            ]
          },
          "metadata": {},
          "execution_count": 109
        }
      ]
    }
  ]
}