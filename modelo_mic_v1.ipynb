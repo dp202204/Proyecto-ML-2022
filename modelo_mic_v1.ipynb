{
  "nbformat": 4,
  "nbformat_minor": 0,
  "metadata": {
    "colab": {
      "name": "modelo_mic_v1.ipynb",
      "provenance": [],
      "collapsed_sections": []
    },
    "kernelspec": {
      "name": "python3",
      "display_name": "Python 3"
    },
    "language_info": {
      "name": "python"
    }
  },
  "cells": [
    {
      "cell_type": "markdown",
      "source": [
        "**Maestría en Informática - PUCP - Aprendizaje Automático**\n",
        "\n",
        "**Proyecto Grupal 2022-1**\n",
        "\n",
        "# **Complicaciones en pacientes que sufrieron infarto al miocardio**"
      ],
      "metadata": {
        "id": "DEBb4eoq_3ht"
      }
    },
    {
      "cell_type": "code",
      "execution_count": 1,
      "metadata": {
        "id": "xASy4XKy_nb4"
      },
      "outputs": [],
      "source": [
        "import pandas as pd"
      ]
    },
    {
      "cell_type": "code",
      "source": [
        "# Carga de datos - Pacientes que sufrieron infarto al miocardio y sus complicaciones\n",
        "# Datos utilizados:\n",
        "# Myocardial infarction complications Data Set\n",
        "# Center for Machine Learning and Intelligent Systems, Bren School of Information and Computer Science, University of California, Irvine\n",
        "\n",
        "mic_data = pd.read_csv('https://leicester.figshare.com/ndownloader/files/23581310')"
      ],
      "metadata": {
        "id": "3i6GO8YBAkcE"
      },
      "execution_count": 2,
      "outputs": []
    },
    {
      "cell_type": "code",
      "source": [
        "mic_data.shape"
      ],
      "metadata": {
        "colab": {
          "base_uri": "https://localhost:8080/"
        },
        "id": "GzsaKLO4D9Td",
        "outputId": "3b078a67-02f3-479a-d510-3e26666e09a7"
      },
      "execution_count": 3,
      "outputs": [
        {
          "output_type": "execute_result",
          "data": {
            "text/plain": [
              "(1700, 124)"
            ]
          },
          "metadata": {},
          "execution_count": 3
        }
      ]
    },
    {
      "cell_type": "code",
      "source": [
        "# Levantamiento de información sobre las columnas\n",
        "\n",
        "cant_col_nan      = 0\n",
        "cant_col_sin_nan  = 0\n",
        "cant_col_num      = 0\n",
        "cant_col_binarias = 0\n",
        "\n",
        "for col in mic_data:\n",
        "  #Determinamos cuantas columna son numericas\n",
        "  if pd.api.types.is_numeric_dtype(mic_data[col]):\n",
        "    cant_col_num = cant_col_num + 1\n",
        "    if mic_data[col].nunique() == 2:\n",
        "      cant_col_binarias = cant_col_binarias + 1\n",
        "  #Determinamos que columnas tienen datos faltantes\n",
        "  if mic_data[col].isna().sum() > 0:\n",
        "    cant_col_nan = cant_col_nan + 1\n",
        "  else:\n",
        "     cant_col_sin_nan = cant_col_sin_nan + 1"
      ],
      "metadata": {
        "id": "Ng0ynKajFU0O"
      },
      "execution_count": 4,
      "outputs": []
    },
    {
      "cell_type": "code",
      "source": [
        "cant_col_mic_data = mic_data.shape[1]\n",
        "print('Total de columnas en el conjunto de datos: ',cant_col_mic_data)\n",
        "print('Total de columnas numericas:               ',cant_col_num, ' (', '%.1f%%' % (100*cant_col_num/cant_col_mic_data),')')\n",
        "print('Total de columnas numericas binarias:       ',cant_col_binarias, ' (', '%.1f%%' % (100*cant_col_binarias/cant_col_mic_data),')')\n",
        "print('Total de columnas con datos faltantes:     ',cant_col_nan, ' (', '%.1f%%' % (100*cant_col_nan/cant_col_mic_data),')')\n",
        "print('Total de columnas con datos completos:      ',cant_col_sin_nan, ' (Para comprobación)')"
      ],
      "metadata": {
        "colab": {
          "base_uri": "https://localhost:8080/"
        },
        "id": "KpUAUauOJQOm",
        "outputId": "a19c8841-4a02-4078-a4f0-5b80f6cfe199"
      },
      "execution_count": 5,
      "outputs": [
        {
          "output_type": "stream",
          "name": "stdout",
          "text": [
            "Total de columnas en el conjunto de datos:  124\n",
            "Total de columnas numericas:                124  ( 100.0% )\n",
            "Total de columnas numericas binarias:        89  ( 71.8% )\n",
            "Total de columnas con datos faltantes:      110  ( 88.7% )\n",
            "Total de columnas con datos completos:       14  (Para comprobación)\n"
          ]
        }
      ]
    },
    {
      "cell_type": "markdown",
      "source": [
        "Todas las columnas son numéricas. Algunas son enteras y otras de punto flotante.\n",
        "\n",
        "89 columnas (71.8%) son binarias, es decir, tiene los valores 0 y 1. Por tanto 35 columan tiene datos no binarios.\n",
        "\n",
        "La mayoría de las columnas tienen datos faltantes (88.7%)."
      ],
      "metadata": {
        "id": "UD9R9uP9oo_T"
      }
    },
    {
      "cell_type": "code",
      "source": [
        "# Recoleccion de características de los datos por columna: Datos unicos, datos faltantes\n",
        "cant_filas_mic_data = mic_data.shape[0]\n",
        "mic_carat = pd.DataFrame(mic_data.nunique(),columns=['Datos_Unicos'])\n",
        "mic_carat['Faltantes'] = mic_data.isna().sum() / cant_filas_mic_data * 100\n",
        "# mic_data.nunique().hist()\n",
        "# mic_data.nunique()"
      ],
      "metadata": {
        "id": "IXvIj5ITUmAB"
      },
      "execution_count": null,
      "outputs": []
    },
    {
      "cell_type": "code",
      "source": [
        "print ('Columnas con mayor cantidad de datos únicos')\n",
        "print ()\n",
        "mic_carat.sort_values('Datos_Unicos', ascending = False)['Datos_Unicos'].head(37)"
      ],
      "metadata": {
        "colab": {
          "base_uri": "https://localhost:8080/"
        },
        "id": "aalxYYDH5bif",
        "outputId": "d4d6f8fb-0f64-4735-b1a7-320e52e1ada9"
      },
      "execution_count": null,
      "outputs": [
        {
          "output_type": "stream",
          "name": "stdout",
          "text": [
            "Columnas con mayor cantidad de datos únicos\n",
            "\n"
          ]
        },
        {
          "output_type": "execute_result",
          "data": {
            "text/plain": [
              "ID             1700\n",
              "L_BLOOD         174\n",
              "ALT_BLOOD        69\n",
              "AGE              62\n",
              "ROE              58\n",
              "AST_BLOOD        58\n",
              "K_BLOOD          51\n",
              "NA_BLOOD         40\n",
              "S_AD_ORIT        32\n",
              "S_AD_KBRIG       30\n",
              "D_AD_KBRIG       21\n",
              "D_AD_ORIT        20\n",
              "TIME_B_S          9\n",
              "LET_IS            8\n",
              "DLIT_AG           8\n",
              "STENOK_AN         7\n",
              "post_im           5\n",
              "inf_im            5\n",
              "lat_im            5\n",
              "ant_im            5\n",
              "NA_R_1_n          5\n",
              "NOT_NA_1_n        5\n",
              "ZSN_A             5\n",
              "FK_STENOK         5\n",
              "KFK_BLOOD         4\n",
              "R_AB_2_n          4\n",
              "R_AB_1_n          4\n",
              "NA_R_2_n          4\n",
              "NOT_NA_2_n        4\n",
              "INF_ANAM          4\n",
              "R_AB_3_n          4\n",
              "GB                4\n",
              "NOT_NA_3_n        3\n",
              "NA_R_3_n          3\n",
              "IBS_POST          3\n",
              "NA_KB             2\n",
              "fibr_ter_06       2\n",
              "Name: Datos_Unicos, dtype: int64"
            ]
          },
          "metadata": {},
          "execution_count": 63
        }
      ]
    },
    {
      "cell_type": "code",
      "source": [
        "print ('Columnas con mayor porcentaje de datos faltantes')\n",
        "print ()\n",
        "mic_carat.sort_values('Faltantes', ascending = False)['Faltantes'].head(15)"
      ],
      "metadata": {
        "colab": {
          "base_uri": "https://localhost:8080/"
        },
        "id": "P6zj2IsdNgAO",
        "outputId": "cc895f4d-927a-46bb-e9c0-1b5f36f54d19"
      },
      "execution_count": null,
      "outputs": [
        {
          "output_type": "stream",
          "name": "stdout",
          "text": [
            "Columnas con mayor porcentaje de datos faltantes\n",
            "\n"
          ]
        },
        {
          "output_type": "execute_result",
          "data": {
            "text/plain": [
              "KFK_BLOOD     99.764706\n",
              "IBS_NASL      95.764706\n",
              "S_AD_KBRIG    63.294118\n",
              "D_AD_KBRIG    63.294118\n",
              "NOT_NA_KB     40.352941\n",
              "LID_KB        39.823529\n",
              "NA_KB         38.647059\n",
              "GIPER_NA      22.058824\n",
              "NA_BLOOD      22.058824\n",
              "K_BLOOD       21.823529\n",
              "GIPO_K        21.705882\n",
              "AST_BLOOD     16.764706\n",
              "ALT_BLOOD     16.705882\n",
              "S_AD_ORIT     15.705882\n",
              "D_AD_ORIT     15.705882\n",
              "Name: Faltantes, dtype: float64"
            ]
          },
          "metadata": {},
          "execution_count": 64
        }
      ]
    },
    {
      "cell_type": "markdown",
      "source": [
        "De acuerdo a algunos autores, la proporción de valores faltantes en estudios científicos es muy variable y puede alcanzar niveles de entre 26% to 72% para estudios sobre educación y psicología, siendo valores comunes entre 15% to 20%.\n",
        "\n",
        "Yiran Dong, Chao-Ying Joanne Peng, Principled missing data methods for researchers, Springerplus. 2013; 2: 222. Published online 2013 May 14. doi: 10.1186/2193-1801-2-222\n",
        "https://www.ncbi.nlm.nih.gov/pmc/articles/PMC3701793/\n",
        "\n",
        "Notas diversas encontradas en foros de internet sugieren valores entre 25% y 30% como aceptables.\n",
        "\n",
        "Para el presente trabajo descartaremos las columnas con más de 25% de datos faltantes.\n",
        "\n",
        "Las columnas a descartar serán las siguientes:\n",
        "\n",
        "Columna       Porcent. faltantes   Información que contiene\n",
        "\n",
        "---------     ------------------   ------------------------\n",
        "\n",
        "KFK_BLOOD           99.8%          Serum CPK content\n",
        "\n",
        "IBS_NASL            95.8%          Heredity on CHD\n",
        "\n",
        "S_AD_KBRIG          63.3%          Systolic blood pressure according to Emergency Cardiology Team\n",
        "\n",
        "D_AD_KBRIG          63.3%          Diastolic blood pressure according to Emergency Cardiology Team\n",
        "\n",
        "NOT_NA_KB           40.4%         Use of NSAIDs by the Emergency Cardiology Team\n",
        "\n",
        "LID_KB              39.8%         Use of lidocaine by the Emergency Cardiology Team\n",
        "\n",
        "NA_KB               38.6%         Use of opioid drugs by the Emergency Cardiology Team\n"
      ],
      "metadata": {
        "id": "xrL76mOQXSEV"
      }
    },
    {
      "cell_type": "code",
      "source": [
        "filas_nan = 0\n",
        "filas_sin_nan = 0\n",
        "for i in range(mic_data.shape[0]):\n",
        "  if mic_data.iloc[i].isna().sum() > 0:\n",
        "    filas_nan = filas_nan + 1\n",
        "  else:\n",
        "    filas_sin_nan = filas_sin_nan + 1\n",
        "filas_nan,filas_sin_nan"
      ],
      "metadata": {
        "colab": {
          "base_uri": "https://localhost:8080/"
        },
        "id": "afGftwirJUdX",
        "outputId": "6c952cda-5d56-4f42-fe19-75803853a820"
      },
      "execution_count": null,
      "outputs": [
        {
          "output_type": "execute_result",
          "data": {
            "text/plain": [
              "(1700, 0)"
            ]
          },
          "metadata": {},
          "execution_count": 11
        }
      ]
    }
  ]
}